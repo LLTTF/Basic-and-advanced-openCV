{
 "cells": [
  {
   "cell_type": "code",
   "execution_count": 1,
   "id": "c2483b72-a323-49ad-870a-d0fcbeaf23e1",
   "metadata": {},
   "outputs": [],
   "source": [
    "import cv2 as cv"
   ]
  },
  {
   "cell_type": "code",
   "execution_count": 2,
   "id": "120e35b6-8ecf-4b19-b039-6e9c78ce767f",
   "metadata": {},
   "outputs": [],
   "source": [
    "img=cv.imread(r\"C:\\Users\\mahim\\Downloads\\cat.jpg\")"
   ]
  },
  {
   "cell_type": "code",
   "execution_count": 3,
   "id": "a6fb2623-7b87-4d0d-9a76-7ba7f054bab9",
   "metadata": {},
   "outputs": [
    {
     "data": {
      "text/plain": [
       "-1"
      ]
     },
     "execution_count": 3,
     "metadata": {},
     "output_type": "execute_result"
    }
   ],
   "source": [
    "cv.imshow('A Cat',img)\n",
    "cv.waitKey(0)#delay for a key to press 0 means it waits infinitely"
   ]
  },
  {
   "cell_type": "code",
   "execution_count": 4,
   "id": "5bd755af-d6a6-46ea-8343-dfbcd0e90a07",
   "metadata": {},
   "outputs": [],
   "source": [
    "capture=cv.VideoCapture(r\"C:\\Users\\mahim\\Downloads\\dog.mp4\")#0 is web cam or path\n",
    "#for videos use while loop to read frame by frame\n",
    "while True:\n",
    "    isTrue,frame=capture.read()\n",
    "    cv.imshow('Video',frame)\n",
    "    #for video to stop\n",
    "    if cv.waitKey(20) & 0xFF==ord('d'):\n",
    "        break\n",
    "capture.release()\n",
    "cv.destroyAllWindows()"
   ]
  },
  {
   "cell_type": "code",
   "execution_count": 5,
   "id": "ae60a529-7367-4e8f-b3f6-79c98e77af20",
   "metadata": {},
   "outputs": [],
   "source": [
    "def rescaleFrame(frame,scale=0.75):\n",
    "    #works for images videos and Live videos\n",
    "    width=int(frame.shape[1]*scale)\n",
    "    height=int(frame.shape[0]*scale)\n",
    "    dimensions=(width,height)\n",
    "    return cv.resize(frame,dimensions,interpolation=cv.INTER_AREA)\n",
    "def changeres(width,height):\n",
    "    #only live video\n",
    "    capture.set(3,width)\n",
    "    capture.set(4,height)\n",
    "    \n",
    "capture=cv.VideoCapture(r\"C:\\Users\\mahim\\Downloads\\dog.mp4\")\n",
    "while True:\n",
    "        isTrue,frame=capture.read()\n",
    "        frame_sized=rescaleFrame(frame)\n",
    "        cv.imshow('Video re-sized',frame_sized)\n",
    "       # cv.imshow('Video',frame)\n",
    "    #for video to stop\n",
    "        if cv.waitKey(20) & 0xFF==ord('d'):\n",
    "            break\n",
    "capture.release()\n",
    "cv.destroyAllWindows()"
   ]
  },
  {
   "cell_type": "markdown",
   "id": "e56ece61-fe93-409d-a610-8a5234e67e8a",
   "metadata": {},
   "source": [
    "How to draw shapes in Images?"
   ]
  },
  {
   "cell_type": "code",
   "execution_count": 6,
   "id": "07ce9012-ee87-42f6-991b-b5c185a1f74e",
   "metadata": {},
   "outputs": [],
   "source": [
    "import cv2 as cv\n",
    "import numpy as np"
   ]
  },
  {
   "cell_type": "code",
   "execution_count": 7,
   "id": "df7a0ad7-1108-47a1-b7f4-aaa82db75614",
   "metadata": {},
   "outputs": [
    {
     "data": {
      "text/plain": [
       "-1"
      ]
     },
     "execution_count": 7,
     "metadata": {},
     "output_type": "execute_result"
    }
   ],
   "source": [
    "import cv2 as cv\n",
    "import numpy as np\n",
    "img=cv.imread(r\"C:\\Users\\mahim\\Downloads\\cat.jpg\")\n",
    "blank=np.zeros((500,500,3),dtype='uint8')\n",
    "#cv.imshow('Blank',blank)\n",
    "#Paint the image a certain color\n",
    "#blank[200:300,300:400]=0,255,0\n",
    "#cv.imshow('Green',blank)\n",
    "cv.rectangle(blank,(0,0),(blank.shape[1]//2,blank.shape[0]//2),(0,255,0),thickness=cv.FILLED)\n",
    "#cv.imshow('Cat',img)\n",
    "cv.imshow('Rectangle',blank)\n",
    "#Drawing a circle\n",
    "cv.circle(blank,(blank.shape[1]//2,blank.shape[0]//2),40,(0,0,255),thickness=-1)\n",
    "cv.imshow('Circle',blank)\n",
    "cv.line(blank,(200,200),(300,400),(255,255,255),thickness=3)\n",
    "cv.imshow('Line',blank)\n",
    "#put text on Image\n",
    "cv.putText(blank,'Hello',(255,255),cv.FONT_HERSHEY_TRIPLEX,1.0,(0,255,0),thickness=2)\n",
    "cv.imshow('Text',blank)\n",
    "cv.waitKey(0)"
   ]
  },
  {
   "cell_type": "markdown",
   "id": "60812f2d-0607-4384-af9a-0f849cd2030e",
   "metadata": {},
   "source": [
    "Converting BGR pixels to grayscale to see intensity of pixels"
   ]
  },
  {
   "cell_type": "code",
   "execution_count": 8,
   "id": "5ae6b8e0-a460-44e1-8066-9f598f2d7d7c",
   "metadata": {},
   "outputs": [],
   "source": [
    "import cv2 as cv"
   ]
  },
  {
   "cell_type": "code",
   "execution_count": 9,
   "id": "58ee033d-8409-443e-97de-4205999b96bb",
   "metadata": {},
   "outputs": [],
   "source": [
    "img=cv.imread(r\"C:\\Users\\mahim\\Downloads\\cat.jpg\")"
   ]
  },
  {
   "cell_type": "code",
   "execution_count": 10,
   "id": "97452b1b-a921-4237-9fe1-f4128b444a0f",
   "metadata": {},
   "outputs": [
    {
     "data": {
      "text/plain": [
       "-1"
      ]
     },
     "execution_count": 10,
     "metadata": {},
     "output_type": "execute_result"
    }
   ],
   "source": [
    "cv.imshow('Cat',img)\n",
    "gray=cv.cvtColor(img,cv.COLOR_BGR2GRAY)\n",
    "cv.imshow('GRAY',gray)\n",
    "cv.waitKey(0)"
   ]
  },
  {
   "cell_type": "markdown",
   "id": "f92d9027-d751-4171-adf2-d7d6c4d4036d",
   "metadata": {},
   "source": [
    " Blur image removes noise existing in the video due to bad lighting and issue with the sensor"
   ]
  },
  {
   "cell_type": "code",
   "execution_count": 11,
   "id": "5731cc43-21d0-4e04-81e5-59ab2e9d2586",
   "metadata": {},
   "outputs": [
    {
     "data": {
      "text/plain": [
       "-1"
      ]
     },
     "execution_count": 11,
     "metadata": {},
     "output_type": "execute_result"
    }
   ],
   "source": [
    "#GAUSSIAN BLUR\n",
    "img=cv.imread(r\"C:\\Users\\mahim\\Downloads\\park.jpg\")\n",
    "cv.imshow('Clear',img)\n",
    "blur=cv.GaussianBlur(img,(3,3),cv.BORDER_DEFAULT)\n",
    "cv.imshow('BLUR',blur)\n",
    "cv.waitKey(0)"
   ]
  },
  {
   "cell_type": "markdown",
   "id": "2204e93e-453b-4231-9a74-abbef0c5ffc2",
   "metadata": {},
   "source": [
    "Edge cascade"
   ]
  },
  {
   "cell_type": "code",
   "execution_count": 12,
   "id": "b6c13f84-23ed-486b-8028-2509ae545ade",
   "metadata": {},
   "outputs": [
    {
     "data": {
      "text/plain": [
       "-1"
      ]
     },
     "execution_count": 12,
     "metadata": {},
     "output_type": "execute_result"
    }
   ],
   "source": [
    "#edge cascade\n",
    "import cv2 as cv\n",
    "img=cv.imread(r\"C:\\Users\\mahim\\Downloads\\park.jpg\")\n",
    "cv.imshow('Clear',img)\n",
    "canny=cv.Canny(img,100,150)\n",
    "cv.imshow('Canny',canny)\n",
    "cv.waitKey(0) "
   ]
  },
  {
   "cell_type": "markdown",
   "id": "50f384a0-1084-4bcd-96e2-1f1433f1164e",
   "metadata": {},
   "source": [
    "Dilating an image"
   ]
  },
  {
   "cell_type": "code",
   "execution_count": 13,
   "id": "280978a2-7ae1-4e46-87f2-e420221a0ee2",
   "metadata": {},
   "outputs": [
    {
     "data": {
      "text/plain": [
       "-1"
      ]
     },
     "execution_count": 13,
     "metadata": {},
     "output_type": "execute_result"
    }
   ],
   "source": [
    "#dilating an image use canny edges for structuring the image\n",
    "'''Dilation removes noise,connects components of the picture and emphasises certain features'''\n",
    "dilated =cv.dilate(canny,(3,3),iterations=1)\n",
    "cv.imshow('Canny',canny)\n",
    "cv.imshow('Dilated',dilated)\n",
    "cv.waitKey(0) "
   ]
  },
  {
   "cell_type": "code",
   "execution_count": 14,
   "id": "a29b7cb3-d3cb-4ddc-a993-3d90a2af9868",
   "metadata": {},
   "outputs": [
    {
     "data": {
      "text/plain": [
       "-1"
      ]
     },
     "execution_count": 14,
     "metadata": {},
     "output_type": "execute_result"
    }
   ],
   "source": [
    "#To get original image from dialated image\n",
    "eroded=cv.erode(dilated,(7,7),iterations=1)\n",
    "cv.imshow('Canny',canny)\n",
    "cv.imshow('Dilated',dilated)\n",
    "cv.imshow('Eroded',eroded)\n",
    "cv.waitKey(0)"
   ]
  },
  {
   "cell_type": "markdown",
   "id": "7a1e41ff-c829-43ef-b421-ea940f116838",
   "metadata": {},
   "source": [
    "Resizing an image"
   ]
  },
  {
   "cell_type": "code",
   "execution_count": 15,
   "id": "2da9c0ba-f288-44d4-9eda-27fa4e5f6961",
   "metadata": {},
   "outputs": [
    {
     "data": {
      "text/plain": [
       "-1"
      ]
     },
     "execution_count": 15,
     "metadata": {},
     "output_type": "execute_result"
    }
   ],
   "source": [
    "img=cv.imread(r\"C:\\Users\\mahim\\Downloads\\park.jpg\")\n",
    "cv.imshow('Clear',img)\n",
    "resized=cv.resize(img,(1000,800),interpolation=cv.INTER_CUBIC)\n",
    "cv.imshow('Resized',resized)\n",
    "cv.waitKey(0)"
   ]
  },
  {
   "cell_type": "code",
   "execution_count": 16,
   "id": "5cd92bd9-3e49-4c2d-ae5e-f024295b13a4",
   "metadata": {},
   "outputs": [
    {
     "data": {
      "text/plain": [
       "-1"
      ]
     },
     "execution_count": 16,
     "metadata": {},
     "output_type": "execute_result"
    }
   ],
   "source": [
    "#Cropping-Images are arrays so we can us eslicing to select a region in image\n",
    "cropped=img[50:200,200:400]\n",
    "cv.imshow('Cropped',cropped)\n",
    "cv.waitKey(0)\n"
   ]
  },
  {
   "cell_type": "markdown",
   "id": "54c1d821-995a-4989-80cf-bb92dc7dc996",
   "metadata": {},
   "source": [
    "## IMAGE TRANSFORMATION\n",
    "    1)translation\n",
    "    2)rotation\n",
    "    3)resizing\n",
    "    4)clipping\n",
    "    5)cropping"
   ]
  },
  {
   "cell_type": "code",
   "execution_count": 18,
   "id": "7f89dbe5-7ce3-468e-a7a2-83e0191622aa",
   "metadata": {},
   "outputs": [
    {
     "data": {
      "text/plain": [
       "-1"
      ]
     },
     "execution_count": 18,
     "metadata": {},
     "output_type": "execute_result"
    }
   ],
   "source": [
    "import cv2 as cv\n",
    "import numpy as np\n",
    "img=cv.imread(r\"C:\\Users\\mahim\\Downloads\\park.jpg\")\n",
    "cv.imshow('Boston',img)\n",
    "#translation\n",
    "def translate(img,x,y):#x and y is numbe rof pixels you want to shift on x and y axis\n",
    "    transMat=np.float32([[1,0,x],[0,1,y]])\n",
    "    dimensions=(img.shape[1],img.shape[0])\n",
    "    return cv.warpAffine(img,transMat,dimensions)\n",
    "#-x=>left\n",
    "#-y->up\n",
    "#x->Right\n",
    "#y->down\n",
    "translated =translate(img,-150,-200)\n",
    "cv.imshow('Translated',translated)\n",
    "cv.waitKey(0)\n",
    "    "
   ]
  },
  {
   "cell_type": "code",
   "execution_count": 25,
   "id": "fccf3226-3f12-40ed-8b83-5a6354dde108",
   "metadata": {},
   "outputs": [
    {
     "data": {
      "text/plain": [
       "-1"
      ]
     },
     "execution_count": 25,
     "metadata": {},
     "output_type": "execute_result"
    }
   ],
   "source": [
    "#Rotation-Roatate image around any arbritary point\n",
    "img=cv.imread(r\"C:\\Users\\mahim\\Downloads\\park.jpg\")\n",
    "def rotate(img,angle,rotPoint=None):\n",
    "    (height,width)=img.shape[:2]\n",
    "    if rotPoint is None:\n",
    "        rotPoint=(width//2,height//2)\n",
    "    \n",
    "    rotMat=cv.getRotationMatrix2D(rotPoint,angle,1.0)\n",
    "    dimensions=(width,height)\n",
    "    return cv.warpAffine(img,rotMat,dimensions)\n",
    "#Negative angles for clockwisw rotation\n",
    "rotated=rotate(img,45)\n",
    "cv.imshow('Rotated',rotated)\n",
    "cv.waitKey(0)\n"
   ]
  },
  {
   "cell_type": "code",
   "execution_count": 26,
   "id": "84cf5bd9-1b92-4351-946c-11acacc4819e",
   "metadata": {},
   "outputs": [
    {
     "data": {
      "text/plain": [
       "-1"
      ]
     },
     "execution_count": 26,
     "metadata": {},
     "output_type": "execute_result"
    }
   ],
   "source": [
    "#Resizing\n",
    "resized=cv.resize(img,(500,500),interpolation=cv.INTER_CUBIC)\n",
    "cv.imshow('Resized',resized)\n",
    "cv.waitKey(0)"
   ]
  },
  {
   "cell_type": "code",
   "execution_count": 4,
   "id": "813f812c-41ab-4cdc-b0b7-0a40b7d0324b",
   "metadata": {},
   "outputs": [
    {
     "data": {
      "text/plain": [
       "-1"
      ]
     },
     "execution_count": 4,
     "metadata": {},
     "output_type": "execute_result"
    }
   ],
   "source": [
    "import cv2 as cv\n",
    "import numpy as np\n",
    "img=cv.imread(r\"C:\\Users\\mahim\\Downloads\\park.jpg\")\n",
    "#Flipping\n",
    "flip=cv.flip(img,0)\n",
    "flip1=cv.flip(img,1)\n",
    "flip2=cv.flip(img,-1)\n",
    "cv.imshow('Vertical flip',flip)\n",
    "cv.imshow('Horizontal flip',flip1)\n",
    "cv.imshow('Horizontally and vertically flipped',flip2)\n",
    "cv.waitKey(0)"
   ]
  },
  {
   "cell_type": "code",
   "execution_count": 5,
   "id": "4a4d5cef-67f2-4a02-a1a3-34927d794988",
   "metadata": {},
   "outputs": [
    {
     "data": {
      "text/plain": [
       "-1"
      ]
     },
     "execution_count": 5,
     "metadata": {},
     "output_type": "execute_result"
    }
   ],
   "source": [
    "#cropped\n",
    "cropped=img[200:300,450:500]\n",
    "cv.imshow('Cropped',cropped)\n",
    "cv.waitKey(0)"
   ]
  },
  {
   "cell_type": "code",
   "execution_count": 6,
   "id": "8c8c9049-8828-4967-8701-dbd6458eb452",
   "metadata": {},
   "outputs": [
    {
     "name": "stdout",
     "output_type": "stream",
     "text": [
      "1271 These many contours found\n"
     ]
    },
    {
     "data": {
      "text/plain": [
       "-1"
      ]
     },
     "execution_count": 6,
     "metadata": {},
     "output_type": "execute_result"
    }
   ],
   "source": [
    "#contours\n",
    "import cv2 as cv\n",
    "import numpy as np\n",
    "img=cv.imread(r\"C:\\Users\\mahim\\Downloads\\cat.jpg\")\n",
    "gray=cv.cvtColor(img,cv.COLOR_BGR2GRAY)\n",
    "cv.imshow('Gray',gray)\n",
    "canny=cv.Canny(img,125,135)\n",
    "cv.imshow('Canny edges',canny)\n",
    "\n",
    "contours,hierarchies=cv.findContours(canny,cv.RETR_LIST,cv.CHAIN_APPROX_NONE)\n",
    "#RETR_TREE=hierarchical contours\n",
    "#RETR_LIST=all the contours\n",
    "#CHAIN_APPROX_NONE=Gives all points of line and compresses it into two end points\n",
    "print(len(contours),\"These many contours found\")\n",
    "cv.waitKey(0)"
   ]
  },
  {
   "cell_type": "code",
   "execution_count": 7,
   "id": "48b82f18-03f6-410a-8ecb-374718ff2f2e",
   "metadata": {},
   "outputs": [
    {
     "name": "stdout",
     "output_type": "stream",
     "text": [
      "1271 These many contours found\n"
     ]
    },
    {
     "data": {
      "text/plain": [
       "-1"
      ]
     },
     "execution_count": 7,
     "metadata": {},
     "output_type": "execute_result"
    }
   ],
   "source": [
    "contours,hierarchies=cv.findContours(canny,cv.RETR_LIST,cv.CHAIN_APPROX_SIMPLE)\n",
    "print(len(contours),\"These many contours found\")\n",
    "cv.waitKey(0)"
   ]
  },
  {
   "cell_type": "code",
   "execution_count": 10,
   "id": "0e2c33c4-277a-409d-8a3d-5933748d8f31",
   "metadata": {},
   "outputs": [
    {
     "name": "stdout",
     "output_type": "stream",
     "text": [
      "166 These many contours found\n"
     ]
    },
    {
     "data": {
      "text/plain": [
       "-1"
      ]
     },
     "execution_count": 10,
     "metadata": {},
     "output_type": "execute_result"
    }
   ],
   "source": [
    "#blurred image has less contours\n",
    "blur=cv.GaussianBlur(gray,(5,5),cv.BORDER_DEFAULT)\n",
    "cv.imshow('Blur',blur)\n",
    "canny=cv.Canny(blur,125,135)\n",
    "contours,hierarchies=cv.findContours(canny,cv.RETR_LIST,cv.CHAIN_APPROX_SIMPLE)\n",
    "print(len(contours),\"These many contours found\")\n",
    "cv.waitKey(0)"
   ]
  },
  {
   "cell_type": "code",
   "execution_count": 11,
   "id": "627c8ec2-b215-4231-b414-2c2ad8352821",
   "metadata": {},
   "outputs": [
    {
     "name": "stdout",
     "output_type": "stream",
     "text": [
      "166 These many contours found\n"
     ]
    },
    {
     "data": {
      "text/plain": [
       "102"
      ]
     },
     "execution_count": 11,
     "metadata": {},
     "output_type": "execute_result"
    }
   ],
   "source": [
    "ret,thresh=cv.threshold(gray,125,255,cv.THRESH_BINARY)\n",
    "cv.imshow('Thresh',thresh)\n",
    "#binarises img if an image is below 125 in intensity it is set to 0 and above 125 to white(255)\n",
    "contours,hierarchies=cv.findContours(canny,cv.RETR_LIST,cv.CHAIN_APPROX_SIMPLE)\n",
    "print(len(contours),\"These many contours found\")\n",
    "cv.waitKey(0)"
   ]
  },
  {
   "cell_type": "code",
   "execution_count": 1,
   "id": "58f59774-3293-4844-a338-739a8e045358",
   "metadata": {},
   "outputs": [
    {
     "ename": "NameError",
     "evalue": "name 'gray' is not defined",
     "output_type": "error",
     "traceback": [
      "\u001b[1;31m---------------------------------------------------------------------------\u001b[0m",
      "\u001b[1;31mNameError\u001b[0m                                 Traceback (most recent call last)",
      "Cell \u001b[1;32mIn[1], line 3\u001b[0m\n\u001b[0;32m      1\u001b[0m \u001b[38;5;28;01mimport\u001b[39;00m \u001b[38;5;21;01mnumpy\u001b[39;00m \u001b[38;5;28;01mas\u001b[39;00m \u001b[38;5;21;01mnp\u001b[39;00m\n\u001b[0;32m      2\u001b[0m \u001b[38;5;28;01mimport\u001b[39;00m \u001b[38;5;21;01mcv2\u001b[39;00m \u001b[38;5;28;01mas\u001b[39;00m \u001b[38;5;21;01mcv\u001b[39;00m\n\u001b[1;32m----> 3\u001b[0m blur\u001b[38;5;241m=\u001b[39mcv\u001b[38;5;241m.\u001b[39mGaussianBlur(\u001b[43mgray\u001b[49m,(\u001b[38;5;241m5\u001b[39m,\u001b[38;5;241m5\u001b[39m),cv\u001b[38;5;241m.\u001b[39mBORDER_DEFAULT)\n\u001b[0;32m      4\u001b[0m \u001b[38;5;66;03m#cv.imshow('Blur',blur)\u001b[39;00m\n\u001b[0;32m      5\u001b[0m canny\u001b[38;5;241m=\u001b[39mcv\u001b[38;5;241m.\u001b[39mCanny(blur,\u001b[38;5;241m125\u001b[39m,\u001b[38;5;241m135\u001b[39m)\n",
      "\u001b[1;31mNameError\u001b[0m: name 'gray' is not defined"
     ]
    }
   ],
   "source": [
    "import numpy as np\n",
    "import cv2 as cv\n",
    "blur=cv.GaussianBlur(gray,(5,5),cv.BORDER_DEFAULT)\n",
    "#cv.imshow('Blur',blur)\n",
    "canny=cv.Canny(blur,125,135)\n",
    "contours,hierarchies=cv.findContours(canny,cv.RETR_LIST,cv.CHAIN_APPROX_SIMPLE)\n",
    "img=cv.imread(r\"C:\\Users\\mahim\\Downloads\\cat.jpg\")\n",
    "blank=np.zeros(img.shape,dtype='uint8')\n",
    "cv.imshow('Blank',blank)\n",
    "#draw precvious contours on blank\n",
    "cv.drawContours(blank,contours,-1,(0,0,255),2)\n",
    "cv.inshow('Contours Blank',blank)\n",
    "cv.waitKey(0)"
   ]
  },
  {
   "cell_type": "code",
   "execution_count": null,
   "id": "65476f1e-0699-4cd9-8dae-82dbde82c300",
   "metadata": {},
   "outputs": [],
   "source": []
  }
 ],
 "metadata": {
  "kernelspec": {
   "display_name": "Python 3 (ipykernel)",
   "language": "python",
   "name": "python3"
  },
  "language_info": {
   "codemirror_mode": {
    "name": "ipython",
    "version": 3
   },
   "file_extension": ".py",
   "mimetype": "text/x-python",
   "name": "python",
   "nbconvert_exporter": "python",
   "pygments_lexer": "ipython3",
   "version": "3.12.2"
  }
 },
 "nbformat": 4,
 "nbformat_minor": 5
}
