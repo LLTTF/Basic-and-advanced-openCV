{
 "cells": [
  {
   "cell_type": "markdown",
   "id": "7c61fd83-61fa-47d3-8bce-a9edbe819183",
   "metadata": {},
   "source": [
    "How to detect face using opencvs built in face detection?\n",
    "\n",
    "    Face detection is performed using classifier which is an algorithm that decides whether a given image is positive or negative or whether face is present or not\n",
    "    Hardcascades\n",
    "    Local binary pattern-more advanced hard cascade classifier"
   ]
  },
  {
   "cell_type": "code",
   "execution_count": 1,
   "id": "86cc27aa-4834-4de0-aca6-993c13a5efa2",
   "metadata": {},
   "outputs": [
    {
     "name": "stdout",
     "output_type": "stream",
     "text": [
      "The number of faces found= 5\n"
     ]
    },
    {
     "data": {
      "text/plain": [
       "-1"
      ]
     },
     "execution_count": 1,
     "metadata": {},
     "output_type": "execute_result"
    }
   ],
   "source": [
    "import cv2 as cv\n",
    "img=cv.imread(r\"C:\\Users\\mahim\\Downloads\\group 2.jpg\")\n",
    "cv.imshow('Lady',img)\n",
    "#First gray scale because face detection doesnt need color just edges\n",
    "gray=cv.cvtColor(img,cv.COLOR_BGR2GRAY)\n",
    "cv.imshow('Gray Lady',gray)\n",
    "#read haar_face.xml\n",
    "haar_cascade=cv.CascadeClassifier('haar_face.xml')\n",
    "faces_rect=haar_cascade.detectMultiScale(gray,scaleFactor=1.12,minNeighbors=6)\n",
    "print(f'The number of faces found= {len(faces_rect)}')\n",
    "#Loop over faces_rect and draw a rectangle over the detected faces\n",
    "for (x,y,w,h)in faces_rect:\n",
    "    cv.rectangle(img,(x,y),(x+w,y+h),(0,255,0),thickness=2)\n",
    "cv.imshow('Detected faces',img)\n",
    "cv.waitKey(0)"
   ]
  },
  {
   "cell_type": "code",
   "execution_count": null,
   "id": "664b99ee-85db-4364-8269-0fdef05f87b8",
   "metadata": {},
   "outputs": [],
   "source": []
  }
 ],
 "metadata": {
  "kernelspec": {
   "display_name": "Python 3 (ipykernel)",
   "language": "python",
   "name": "python3"
  },
  "language_info": {
   "codemirror_mode": {
    "name": "ipython",
    "version": 3
   },
   "file_extension": ".py",
   "mimetype": "text/x-python",
   "name": "python",
   "nbconvert_exporter": "python",
   "pygments_lexer": "ipython3",
   "version": "3.12.2"
  }
 },
 "nbformat": 4,
 "nbformat_minor": 5
}
